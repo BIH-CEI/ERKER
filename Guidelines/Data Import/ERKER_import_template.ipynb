{
 "cells": [
  {
   "cell_type": "code",
   "execution_count": null,
   "metadata": {},
   "outputs": [],
   "source": [
    "from cmath import nan\n",
    "from tkinter import Y\n",
    "import unittest\n",
    "import pandas as pd\n",
    "import numpy as np\n",
    "import datetime\n",
    "from datetime import datetime, date\n",
    "from datetime import timedelta\n",
    "import os\n",
    "import csv\n",
    "from collections import defaultdict\n",
    "from dateutil.relativedelta import relativedelta\n",
    "from collections import defaultdict\n",
    "from collections import ChainMap"
   ]
  },
  {
   "cell_type": "markdown",
   "metadata": {},
   "source": [
    "### Importing your data as .csv to a dataframe"
   ]
  },
  {
   "cell_type": "code",
   "execution_count": null,
   "metadata": {},
   "outputs": [],
   "source": [
    "data = pd.read_csv('path')"
   ]
  },
  {
   "cell_type": "markdown",
   "metadata": {},
   "source": [
    "### Mapping your data\n",
    "map your data elements using the ERKER_v1.7_DataDictionary"
   ]
  },
  {
   "cell_type": "markdown",
   "metadata": {},
   "source": [
    "##### 1. Formale Kriterien"
   ]
  },
  {
   "cell_type": "code",
   "execution_count": null,
   "metadata": {},
   "outputs": [],
   "source": [
    "# your code"
   ]
  },
  {
   "cell_type": "markdown",
   "metadata": {},
   "source": [
    "##### 2. Formale Kriterien"
   ]
  },
  {
   "cell_type": "code",
   "execution_count": null,
   "metadata": {},
   "outputs": [],
   "source": [
    "# your code"
   ]
  },
  {
   "cell_type": "markdown",
   "metadata": {},
   "source": [
    "##### 3. Patientenstatus"
   ]
  },
  {
   "cell_type": "code",
   "execution_count": null,
   "metadata": {},
   "outputs": [],
   "source": [
    "# your code"
   ]
  },
  {
   "cell_type": "markdown",
   "metadata": {},
   "source": [
    "##### 4. Behandlungsverlauf"
   ]
  },
  {
   "cell_type": "code",
   "execution_count": null,
   "metadata": {},
   "outputs": [],
   "source": [
    "# your code"
   ]
  },
  {
   "cell_type": "markdown",
   "metadata": {},
   "source": [
    "##### 5. Krankheitsverlauf"
   ]
  },
  {
   "cell_type": "code",
   "execution_count": null,
   "metadata": {},
   "outputs": [],
   "source": [
    "# your code"
   ]
  },
  {
   "cell_type": "markdown",
   "metadata": {},
   "source": [
    "##### 6.1 Primärdiagnose"
   ]
  },
  {
   "cell_type": "code",
   "execution_count": null,
   "metadata": {},
   "outputs": [],
   "source": [
    "# your code"
   ]
  },
  {
   "cell_type": "markdown",
   "metadata": {},
   "source": [
    "##### 6.2 genetischer Befund"
   ]
  },
  {
   "cell_type": "code",
   "execution_count": null,
   "metadata": {},
   "outputs": [],
   "source": [
    "# your code"
   ]
  },
  {
   "cell_type": "markdown",
   "metadata": {},
   "source": [
    "##### 6.3 Sekundärdiagnosen"
   ]
  },
  {
   "cell_type": "code",
   "execution_count": null,
   "metadata": {},
   "outputs": [],
   "source": [
    "# your code"
   ]
  },
  {
   "cell_type": "markdown",
   "metadata": {},
   "source": [
    "##### 6.4 Phänotypisierung"
   ]
  },
  {
   "cell_type": "code",
   "execution_count": null,
   "metadata": {},
   "outputs": [],
   "source": [
    "# your code"
   ]
  },
  {
   "cell_type": "markdown",
   "metadata": {},
   "source": [
    "##### 6.5 Familienanamnese"
   ]
  },
  {
   "cell_type": "code",
   "execution_count": null,
   "metadata": {},
   "outputs": [],
   "source": [
    "# your code"
   ]
  },
  {
   "cell_type": "markdown",
   "metadata": {},
   "source": [
    "##### 7. Einwilligung Daten"
   ]
  },
  {
   "cell_type": "code",
   "execution_count": null,
   "metadata": {},
   "outputs": [],
   "source": [
    "# your code"
   ]
  },
  {
   "cell_type": "markdown",
   "metadata": {},
   "source": [
    "##### 8. Behinderung"
   ]
  },
  {
   "cell_type": "code",
   "execution_count": null,
   "metadata": {},
   "outputs": [],
   "source": [
    "# your code"
   ]
  },
  {
   "cell_type": "markdown",
   "metadata": {},
   "source": [
    "### ERKER_v1_7 column names as a list"
   ]
  },
  {
   "cell_type": "markdown",
   "metadata": {},
   "source": [
    "#### v1.7"
   ]
  },
  {
   "cell_type": "code",
   "execution_count": null,
   "metadata": {},
   "outputs": [],
   "source": [
    "erker_v1_7_columns= [\n",
    "    # REDCap Variables\n",
    "    'record_id',\n",
    "    \n",
    "    # 1. Formale Kriterien\n",
    "    'sct_422549004','sct_399423000',\n",
    "    \n",
    "    # 2. Persönliche Angaben\n",
    "    'sct_184099003_y', 'sct_281053000','sct_263495000','sct_315354004','sct_364699009',\n",
    "    \n",
    "    # 3. Patientenstatus\n",
    "    'sct_278844005', 'sct_399753006', 'sct_420259009', 'sct_767023003', \n",
    "    'sct_184305005_rd', 'sct_16100001', 'sct_16100001_source',\n",
    "    \n",
    "    # 4. Behandlungsverlauf\n",
    "    'sct_769681006_center','sct_440377005', 'sct_276239002_aim',\n",
    "    \n",
    "    # 5. Krankheitsverlauf\n",
    "    'sct_424850005', 'sct_405795006_y', 'sct_405795006_m', 'sct_405795006_d', \n",
    "    'sct_423493009', 'sct_432213005_y', 'sct_432213005_m', 'sct_432213005_d', \n",
    "    'sct_717800004', 'sct_412726003', 'sct_64245008', 'sct_125679009_proposit', \n",
    "    'sct_842009',\n",
    "    \n",
    "    # 6.1 Primärdiagnose\n",
    "    'sct_439401001_orpha', 'sct_439401001_orpha_sub', 'sct_439401001_icd10gm', \n",
    "    'sct_439401001_alphaid', 'sct_439401001_alphaidstr', 'sct_38866009', \n",
    "    'sct_432213005', 'sct_263493007', 'sct_116694002', 'sct_246454002', \n",
    "    'sct_439401001_ver', 'sct_103330002', 'sct_2931005_orpha', 'sct_2931005_icd10gm', \n",
    "    'sct_439401001_val', 'sct_39154008_hpo', 'sct_106221001_biom_val', \n",
    "    'sct_106221001_biom', 'sct_406522009', 'ln_48007_9_mitoch', \n",
    "    'sct_277132007___sct_277132007_263490005_260413007', \n",
    "    'sct_277132007___sct_416608005_1003735000_257544000_68369002_64572001', \n",
    "    'sct_277132007___sct_394613000', 'sct_277132007___sct_277132007_20401003_69908008', \n",
    "    'sct_277132007___sct_277132007_20401003_68498002', 'sct_277132007___sct_1156961008',\n",
    "    'sct_277132007___sct_234336002', 'sct_277132007___sct_309541009', \n",
    "    'sct_277132007___sct_387713003', 'sct_277132007___sct_74964007',\n",
    "    'sct_277132007___sct_261665006', 'sct_277132007_other',\n",
    "\n",
    "    # 6.2 Genetischer Beufund\n",
    "    'sct_439401001_gen_val','ln_ll4048_6','sct_439401001_omim_g_1', \n",
    "    'sct_439401001_omim_p_1', 'sct_439401001_omim_g_2', 'sct_439401001_omim_p_2', \n",
    "    'sct_439401001_omim_g_3', 'sct_439401001_omim_p_3',\n",
    "    \n",
    "        # 6.2.4 - 1. klinisch relevante Variante\n",
    "        'ln_62374_4_1', 'sct_55446002_str_1', 'ln_81290_9_1', 'ln_48004_6_1', \n",
    "        'ln_48005_3_1', 'ln_48018_6_1', 'ln_48007_9_1', 'ln_48002_0_1', 'ln_48019_4_1',\n",
    "        'ln_53037_8_1', 'ln_93044_6_1',\n",
    "\n",
    "        # 6.2.5 - 2. klinisch relevante Variante\n",
    "        'ln_62374_4_2', 'sct_55446002_str_2', 'ln_81290_9_2', 'ln_48004_6_2', \n",
    "        'ln_48005_3_2', 'ln_48018_6_2', 'ln_48007_9_2', 'ln_48002_0_2', 'ln_48019_4_2',\n",
    "        'ln_53037_8_2', 'ln_93044_6_2',\n",
    "\n",
    "        # 6.2.6 - 3. klinisch relevante Variante\n",
    "        'ln_62374_4_3', 'sct_55446002_str_3', 'ln_81290_9_3', 'ln_48004_6_3', \n",
    "        'ln_48005_3_3', 'ln_48018_6_3', 'ln_48007_9_3', 'ln_48002_0_3', 'ln_48019_4_3', \n",
    "        'ln_53037_8_3', 'ln_93044_6_3',\n",
    "\n",
    "    'sct_64195000_other',\n",
    "        # 6.2.7 Genetische (Neben-)Varianten\n",
    "        'ln_62374_4_4', 'sct_55446002_str_4', 'ln_81290_9_4', 'ln_48004_6_4', \n",
    "        'ln_48005_3_4', 'ln_48018_6_4', 'ln_48007_9_4', \n",
    "        'ln_62374_4_5', 'sct_55446002_str_5', 'ln_81290_9_5', 'ln_48004_6_5', \n",
    "        'ln_48005_3_5', 'ln_48018_6_5', 'ln_48007_9_5',\n",
    "        'ln_62374_4_6', 'sct_55446002_str_6', 'ln_81290_9_6', 'ln_48004_6_6', \n",
    "        'ln_48005_3_6', 'ln_48018_6_6', 'ln_48007_9_6',\n",
    "        'ln_62374_4_7', 'sct_55446002_str_7', 'ln_81290_9_7', 'ln_48004_6_7', \n",
    "        'ln_48005_3_7', 'ln_48018_6_7', 'ln_48007_9_7',\n",
    "        'ln_62374_4_8', 'sct_55446002_str_8', 'ln_81290_9_8', 'ln_48004_6_8', \n",
    "        'ln_48005_3_8', 'ln_48018_6_8', 'ln_48007_9_8',\n",
    "\n",
    "    # 6.3 Sekundärdiagnosen\n",
    "        'sct_85097005_1_orpha', 'sct_85097005_1_icd10gm', 'sct_85097005_1_date', \n",
    "        'sct_85097005_1_ver', 'sct_85097005_2_orpha', 'sct_85097005_2_icd10gm', \n",
    "        'sct_85097005_2_date', 'sct_85097005_2_ver', 'sct_85097005_3_orpha', \n",
    "        'sct_85097005_3_icd10gm', 'sct_85097005_3_date', 'sct_85097005_3_ver', \n",
    "        'sct_85097005_4_orpha', 'sct_85097005_4_icd10gm', 'sct_85097005_4_date', \n",
    "        'sct_85097005_4_ver', 'sct_85097005_5_orpha', 'sct_85097005_5_icd10gm', \n",
    "        'sct_85097005_5_date', 'sct_85097005_5_ver', 'sct_85097005_6_orpha', \n",
    "        'sct_85097005_6_icd10gm', 'sct_85097005_6_date', 'sct_85097005_6_ver', \n",
    "        'sct_85097005_7_orpha', 'sct_85097005_7_icd10gm', 'sct_85097005_7_date', \n",
    "        'sct_85097005_7_ver', 'sct_85097005_8_orpha', 'sct_85097005_8_icd10gm', \n",
    "        'sct_85097005_8_date', 'sct_85097005_8_ver', 'sct_85097005_9_orpha', \n",
    "        'sct_85097005_9_icd10gm', 'sct_85097005_9_date', 'sct_85097005_9_ver', \n",
    "        'sct_85097005_10_orpha', 'sct_85097005_10_icd10gm', 'sct_85097005_10_date', \n",
    "        'sct_85097005_10_ver', 'sct_85097005_11_orpha', 'sct_85097005_11_icd10gm', \n",
    "        'sct_85097005_11_date', 'sct_85097005_11_ver', 'sct_85097005_12_orpha', \n",
    "        'sct_85097005_12_icd10gm', 'sct_85097005_12_date', 'sct_85097005_12_ver', \n",
    "        'sct_85097005_13_orpha', 'sct_85097005_13_icd10gm', 'sct_85097005_13_date', \n",
    "        'sct_85097005_13_ver', 'sct_85097005_14_orpha', 'sct_85097005_14_icd10gm', \n",
    "        'sct_85097005_14_date', 'sct_85097005_14_ver', 'sct_85097005_15_orpha', \n",
    "        'sct_85097005_15_icd10gm', 'sct_85097005_15_date', 'sct_85097005_15_ver', \n",
    "        'sct_85097005_16_orpha', 'sct_85097005_16_icd10gm', 'sct_85097005_16_date', \n",
    "        'sct_85097005_16_ver', 'sct_85097005_17_orpha', 'sct_85097005_17_icd10gm', \n",
    "        'sct_85097005_17_date', 'sct_85097005_17_ver', 'sct_85097005_18_orpha', \n",
    "        'sct_85097005_18_icd10gm', 'sct_85097005_18_date', 'sct_85097005_18_ver', \n",
    "        'sct_85097005_19_orpha', 'sct_85097005_19_icd10gm', 'sct_85097005_19_date', \n",
    "        'sct_85097005_19_ver', 'sct_85097005_20_orpha', 'sct_85097005_20_icd10gm', \n",
    "        'sct_85097005_20_date', 'sct_85097005_20_ver',\n",
    "\n",
    "\n",
    "    # 6.4 Phänotypisierung\n",
    "        'sct_8116006_1', 'sct_8116006_1_date', 'sct_8116006_1_status', 'sct_8116006_2', \n",
    "        'sct_8116006_2_date', 'sct_8116006_2_status', 'sct_8116006_3', \n",
    "        'sct_8116006_3_date', 'sct_8116006_3_status', 'sct_8116006_4', \n",
    "        'sct_8116006_4_date', 'sct_8116006_4_status','sct_8116006_5', \n",
    "        'sct_8116006_5_date', 'sct_8116006_5_status', 'sct_8116006_6', \n",
    "        'sct_8116006_6_date', 'sct_8116006_6_status', 'sct_8116006_7', \n",
    "        'sct_8116006_7_date', 'sct_8116006_7_status', 'sct_8116006_8', \n",
    "        'sct_8116006_8_date', 'sct_8116006_8_status','sct_8116006_9', \n",
    "        'sct_8116006_9_date', 'sct_8116006_9_status', 'sct_8116006_10', \n",
    "        'sct_8116006_10_date', 'sct_8116006_10_status', 'sct_8116006_11', \n",
    "        'sct_8116006_11_date', 'sct_8116006_11_status', 'sct_8116006_12', \n",
    "        'sct_8116006_12_date', 'sct_8116006_12_status','sct_8116006_13', \n",
    "        'sct_8116006_13_date', 'sct_8116006_13_status', 'sct_8116006_14', \n",
    "        'sct_8116006_14_date', 'sct_8116006_14_status','sct_8116006_15', \n",
    "        'sct_8116006_15_date', 'sct_8116006_15_status', 'sct_8116006_16', \n",
    "        'sct_8116006_16_date', 'sct_8116006_16_status','sct_8116006_17', \n",
    "        'sct_8116006_17_date', 'sct_8116006_17_status', 'sct_8116006_18', \n",
    "        'sct_8116006_18_date', 'sct_8116006_18_status', 'sct_8116006_19', \n",
    "        'sct_8116006_19_date', 'sct_8116006_19_status', 'sct_8116006_20', \n",
    "        'sct_8116006_20_date', 'sct_8116006_20_status','sct_8116006_21', \n",
    "        'sct_8116006_21_date', 'sct_8116006_21_status', 'sct_8116006_22', \n",
    "        'sct_8116006_22_date', 'sct_8116006_22_status', 'sct_8116006_23', \n",
    "        'sct_8116006_23_date', 'sct_8116006_23_status', 'sct_8116006_24', \n",
    "        'sct_8116006_24_date', 'sct_8116006_24_status','sct_8116006_25', \n",
    "        'sct_8116006_25_date', 'sct_8116006_25_status', 'sct_8116006_26', \n",
    "        'sct_8116006_26_date', 'sct_8116006_26_status', 'sct_8116006_27', \n",
    "        'sct_8116006_27_date', 'sct_8116006_27_status', 'sct_8116006_28', \n",
    "        'sct_8116006_28_date', 'sct_8116006_28_status','sct_8116006_29', \n",
    "        'sct_8116006_29_date', 'sct_8116006_29_status', 'sct_8116006_30', \n",
    "        'sct_8116006_30_date', 'sct_8116006_30_status',\n",
    "\n",
    "\n",
    "    # 6.5 Familienanamnese\n",
    "    'sct_72705000_rd', 'sct_160430005', 'sct_13506008', 'sct_160430005_age', \n",
    "    'sct_66839005_rd', 'sct_160436004', 'sct_20587003', 'sct_160436004_age', \n",
    "    'sct_82101005_rd', 'sct_82101005_1_age', 'sct_82101005_1_gender', \n",
    "    'sct_82101005_2_age', 'sct_82101005_2_gender', 'sct_82101005_3_age', \n",
    "    'sct_82101005_3_gender', 'sct_82101005_4_age', 'sct_82101005_4_gender', \n",
    "    'sct_82101005_5_age', 'sct_82101005_5_gender', 'sct_82101005_6_age', \n",
    "    'sct_82101005_6_gender', 'sct_82101005_7_age', 'sct_82101005_7_gender', \n",
    "    'sct_82101005_8_age', 'sct_82101005_8_gender', 'sct_82101005_9_age', \n",
    "    'sct_82101005_9_gender', 'sct_82101005_10_age', 'sct_82101005_10_gender', \n",
    "    'sct_75226009_rd', 'sct_75226009_1_age', 'sct_75226009_1_gender', \n",
    "    'sct_75226009_2_age', 'sct_75226009_2_gender', 'sct_75226009_3_age', \n",
    "    'sct_75226009_3_gender', 'sct_75226009_4_age', 'sct_75226009_4_gender', \n",
    "    'sct_75226009_5_age', 'sct_75226009_5_gender', 'sct_75226009_6_age', \n",
    "    'sct_75226009_6_gender', 'sct_75226009_7_age', 'sct_75226009_7_gender', \n",
    "    'sct_75226009_8_age', 'sct_75226009_8_gender', 'sct_75226009_9_age', \n",
    "    'sct_75226009_9_gender', 'sct_75226009_10_age', 'sct_75226009_10_gender',\n",
    "\n",
    "    # 7. Einwilligung Daten\n",
    "    'sct_309370004_research','sct_309370004_narse',\n",
    "        # 7.2.2 Varianten der Datennutzung [im NARSE]\n",
    "        'sct_309370004_data', 'sct_309370004_eu', 'sct_309370004_int', \n",
    "        'sct_309370004_aff', 'sct_309370004_gen', 'sct_309370004_case', \n",
    "        'sct_123038009', 'sct_840566006', 'sct_840566006_specific',\n",
    "    \n",
    "    # 8. Behinderung\n",
    "    'sct_21134002_class', 'sct_21134002_score',\n",
    "    \n",
    "\n",
    "    'erker_v17_complete'\n",
    "]\n"
   ]
  },
  {
   "cell_type": "markdown",
   "metadata": {},
   "source": [
    "### ERKER_v1_7 column names as a list"
   ]
  },
  {
   "cell_type": "code",
   "execution_count": null,
   "metadata": {},
   "outputs": [],
   "source": [
    "### ERKER_v1_7 column names as a list"
   ]
  },
  {
   "cell_type": "markdown",
   "metadata": {},
   "source": []
  }
 ],
 "metadata": {
  "language_info": {
   "name": "python"
  }
 },
 "nbformat": 4,
 "nbformat_minor": 2
}
